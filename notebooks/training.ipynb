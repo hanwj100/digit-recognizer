{
 "cells": [
  {
   "cell_type": "code",
   "execution_count": null,
   "id": "9f744992-85fc-4c93-bca2-f23d94feddb6",
   "metadata": {},
   "outputs": [],
   "source": [
    "from fastai.vision.all import *"
   ]
  },
  {
   "cell_type": "markdown",
   "id": "6c75d842-b1b6-4362-9d4b-7732dac10dbd",
   "metadata": {},
   "source": [
    "**Load the MNIST dataset**   \n",
    "This downloads a smaller version of the MNIST dataset for quick experimentation."
   ]
  },
  {
   "cell_type": "code",
   "execution_count": 4,
   "id": "3a6c63d0-6a40-4573-a1f7-b1c94ae1e03a",
   "metadata": {},
   "outputs": [
    {
     "data": {
      "text/html": [
       "\n",
       "<style>\n",
       "    /* Turns off some styling */\n",
       "    progress {\n",
       "        /* gets rid of default border in Firefox and Opera. */\n",
       "        border: none;\n",
       "        /* Needs to be in here for Safari polyfill so background images work as expected. */\n",
       "        background-size: auto;\n",
       "    }\n",
       "    progress:not([value]), progress:not([value])::-webkit-progress-bar {\n",
       "        background: repeating-linear-gradient(45deg, #7e7e7e, #7e7e7e 10px, #5c5c5c 10px, #5c5c5c 20px);\n",
       "    }\n",
       "    .progress-bar-interrupted, .progress-bar-interrupted::-webkit-progress-bar {\n",
       "        background: #F44336;\n",
       "    }\n",
       "</style>\n"
      ],
      "text/plain": [
       "<IPython.core.display.HTML object>"
      ]
     },
     "metadata": {},
     "output_type": "display_data"
    },
    {
     "data": {
      "text/html": [
       "\n",
       "    <div>\n",
       "      <progress value='3219456' class='' max='3214948' style='width:300px; height:20px; vertical-align: middle;'></progress>\n",
       "      100.14% [3219456/3214948 00:00&lt;00:00]\n",
       "    </div>\n",
       "    "
      ],
      "text/plain": [
       "<IPython.core.display.HTML object>"
      ]
     },
     "metadata": {},
     "output_type": "display_data"
    },
    {
     "data": {
      "text/plain": [
       "(#3) [Path('/Users/woo/.fastai/data/mnist_sample/valid'),Path('/Users/woo/.fastai/data/mnist_sample/labels.csv'),Path('/Users/woo/.fastai/data/mnist_sample/train')]"
      ]
     },
     "execution_count": 4,
     "metadata": {},
     "output_type": "execute_result"
    }
   ],
   "source": [
    "path = untar_data(URLs.MNIST_SAMPLE)\n",
    "path.ls()"
   ]
  },
  {
   "cell_type": "markdown",
   "id": "a6197f83-8d6e-4ad0-ba5d-a3ce28fdbde0",
   "metadata": {},
   "source": [
    "**Define the DataBlock**  \n",
    "The `DataBlock` organizes the dataset into a format the model can use, splitting it into training and validation sets."
   ]
  },
  {
   "cell_type": "code",
   "execution_count": 9,
   "id": "5e72322c-e3a8-4fbf-9b12-0ddb01f1e191",
   "metadata": {},
   "outputs": [],
   "source": [
    "# Create a DataBlock to manage the dataset\n",
    "dblock = DataBlock(\n",
    "    blocks=(ImageBlock(cls=PILImageBW), CategoryBlock),\n",
    "    get_items=get_image_files,\n",
    "    splitter=GrandparentSplitter(train_name='train', valid_name='valid'),\n",
    "    get_y=parent_label,\n",
    "    item_tfms=Resize(28)\n",
    ")\n",
    "\n",
    "dls = dblock.dataloaders(path)"
   ]
  },
  {
   "cell_type": "markdown",
   "id": "95cafe84-6ece-46f9-ac56-aaa7f675d0af",
   "metadata": {},
   "source": [
    "**Visualize the Data**  \n",
    "This displays a grid of images from the dataset, helping you confirm that the data is loaded correctly."
   ]
  },
  {
   "cell_type": "code",
   "execution_count": 8,
   "id": "cbfde696-8aba-4283-b6f8-e664c6bd1757",
   "metadata": {},
   "outputs": [
    {
     "data": {
      "image/png": "[encoded data removed]",
      "text/plain": [
       "<Figure size 600x600 with 9 Axes>"
      ]
     },
     "metadata": {},
     "output_type": "display_data"
    }
   ],
   "source": [
    "dls.show_batch(max_n=9, figsize=(6,6))"
   ]
  },
  {
   "cell_type": "markdown",
   "id": "58f26d7f-519e-40c8-844f-d6b0f563c0b2",
   "metadata": {},
   "source": [
    "**Train the Model**  \n",
    "This trains the model on the MNIST dataset. Fast.ai uses transfer learning, leveraging a pretrained ResNet18."
   ]
  },
  {
   "cell_type": "code",
   "execution_count": 11,
   "id": "2c50b55f-d849-4b02-bc3a-ed0277a2e0e5",
   "metadata": {},
   "outputs": [
    {
     "name": "stderr",
     "output_type": "stream",
     "text": [
      "Downloading: \"https://download.pytorch.org/models/resnet18-f37072fd.pth\" to /Users/woo/.cache/torch/hub/checkpoints/resnet18-f37072fd.pth\n",
      "\n",
      "00%|██████████████████████████████████████████████████████████████████████| 44.7M/44.7M [00:00<00:00, 61.0MB/s]"
     ]
    },
    {
     "data": {
      "text/html": [
       "\n",
       "<style>\n",
       "    /* Turns off some styling */\n",
       "    progress {\n",
       "        /* gets rid of default border in Firefox and Opera. */\n",
       "        border: none;\n",
       "        /* Needs to be in here for Safari polyfill so background images work as expected. */\n",
       "        background-size: auto;\n",
       "    }\n",
       "    progress:not([value]), progress:not([value])::-webkit-progress-bar {\n",
       "        background: repeating-linear-gradient(45deg, #7e7e7e, #7e7e7e 10px, #5c5c5c 10px, #5c5c5c 20px);\n",
       "    }\n",
       "    .progress-bar-interrupted, .progress-bar-interrupted::-webkit-progress-bar {\n",
       "        background: #F44336;\n",
       "    }\n",
       "</style>\n"
      ],
      "text/plain": [
       "<IPython.core.display.HTML object>"
      ]
     },
     "metadata": {},
     "output_type": "display_data"
    },
    {
     "data": {
      "text/html": [
       "<table border=\"1\" class=\"dataframe\">\n",
       "  <thead>\n",
       "    <tr style=\"text-align: left;\">\n",
       "      <th>epoch</th>\n",
       "      <th>train_loss</th>\n",
       "      <th>valid_loss</th>\n",
       "      <th>accuracy</th>\n",
       "      <th>time</th>\n",
       "    </tr>\n",
       "  </thead>\n",
       "  <tbody>\n",
       "    <tr>\n",
       "      <td>0</td>\n",
       "      <td>0.286700</td>\n",
       "      <td>0.173422</td>\n",
       "      <td>0.940628</td>\n",
       "      <td>00:24</td>\n",
       "    </tr>\n",
       "  </tbody>\n",
       "</table>"
      ],
      "text/plain": [
       "<IPython.core.display.HTML object>"
      ]
     },
     "metadata": {},
     "output_type": "display_data"
    },
    {
     "data": {
      "text/html": [
       "\n",
       "<style>\n",
       "    /* Turns off some styling */\n",
       "    progress {\n",
       "        /* gets rid of default border in Firefox and Opera. */\n",
       "        border: none;\n",
       "        /* Needs to be in here for Safari polyfill so background images work as expected. */\n",
       "        background-size: auto;\n",
       "    }\n",
       "    progress:not([value]), progress:not([value])::-webkit-progress-bar {\n",
       "        background: repeating-linear-gradient(45deg, #7e7e7e, #7e7e7e 10px, #5c5c5c 10px, #5c5c5c 20px);\n",
       "    }\n",
       "    .progress-bar-interrupted, .progress-bar-interrupted::-webkit-progress-bar {\n",
       "        background: #F44336;\n",
       "    }\n",
       "</style>\n"
      ],
      "text/plain": [
       "<IPython.core.display.HTML object>"
      ]
     },
     "metadata": {},
     "output_type": "display_data"
    },
    {
     "data": {
      "text/html": [
       "<table border=\"1\" class=\"dataframe\">\n",
       "  <thead>\n",
       "    <tr style=\"text-align: left;\">\n",
       "      <th>epoch</th>\n",
       "      <th>train_loss</th>\n",
       "      <th>valid_loss</th>\n",
       "      <th>accuracy</th>\n",
       "      <th>time</th>\n",
       "    </tr>\n",
       "  </thead>\n",
       "  <tbody>\n",
       "    <tr>\n",
       "      <td>0</td>\n",
       "      <td>0.063775</td>\n",
       "      <td>0.030587</td>\n",
       "      <td>0.991659</td>\n",
       "      <td>00:22</td>\n",
       "    </tr>\n",
       "  </tbody>\n",
       "</table>"
      ],
      "text/plain": [
       "<IPython.core.display.HTML object>"
      ]
     },
     "metadata": {},
     "output_type": "display_data"
    }
   ],
   "source": [
    "# Create a learner with a pretrained ResNet18 model\n",
    "learn = vision_learner(dls, resnet18, metrics=accuracy)\n",
    "\n",
    "# Fine tune the model for 1 epoch\n",
    "learn.fine_tune(1)"
   ]
  },
  {
   "cell_type": "markdown",
   "id": "487fbfa2-6e4f-4ef3-83ee-bf3b5480b12d",
   "metadata": {},
   "source": [
    "**Evaluate the Model**"
   ]
  },
  {
   "cell_type": "code",
   "execution_count": 12,
   "id": "ac208c70-d4ef-4854-81e2-960d710f2b61",
   "metadata": {},
   "outputs": [
    {
     "data": {
      "text/html": [
       "\n",
       "<style>\n",
       "    /* Turns off some styling */\n",
       "    progress {\n",
       "        /* gets rid of default border in Firefox and Opera. */\n",
       "        border: none;\n",
       "        /* Needs to be in here for Safari polyfill so background images work as expected. */\n",
       "        background-size: auto;\n",
       "    }\n",
       "    progress:not([value]), progress:not([value])::-webkit-progress-bar {\n",
       "        background: repeating-linear-gradient(45deg, #7e7e7e, #7e7e7e 10px, #5c5c5c 10px, #5c5c5c 20px);\n",
       "    }\n",
       "    .progress-bar-interrupted, .progress-bar-interrupted::-webkit-progress-bar {\n",
       "        background: #F44336;\n",
       "    }\n",
       "</style>\n"
      ],
      "text/plain": [
       "<IPython.core.display.HTML object>"
      ]
     },
     "metadata": {},
     "output_type": "display_data"
    },
    {
     "data": {
      "text/html": [],
      "text/plain": [
       "<IPython.core.display.HTML object>"
      ]
     },
     "metadata": {},
     "output_type": "display_data"
    },
    {
     "data": {
      "text/plain": [
       "(#2) [0.03058665618300438,0.9916585087776184]"
      ]
     },
     "execution_count": 12,
     "metadata": {},
     "output_type": "execute_result"
    }
   ],
   "source": [
    "# Evaluate model accuracy on the validation set\n",
    "learn.validate()"
   ]
  },
  {
   "cell_type": "markdown",
   "id": "803790b7-8c02-4207-bf67-19e997488f72",
   "metadata": {},
   "source": [
    "**Export the Model**  \n",
    "This saves the trained model in a format ready for deployment."
   ]
  },
  {
   "cell_type": "code",
   "execution_count": 15,
   "id": "ef7307bb-845f-4ad6-884f-1e8a09a0bb5e",
   "metadata": {},
   "outputs": [],
   "source": [
    "learn.export('../src/model/mnist_model.pk1')"
   ]
  },
  {
   "cell_type": "code",
   "execution_count": null,
   "id": "ed3cdb30-4ccd-40eb-8c1c-1988c4e55d41",
   "metadata": {},
   "outputs": [],
   "source": []
  }
 ],
 "metadata": {
  "kernelspec": {
   "display_name": "Python 3 (ipykernel)",
   "language": "python",
   "name": "python3"
  },
  "language_info": {
   "codemirror_mode": {
    "name": "ipython",
    "version": 3
   },
   "file_extension": ".py",
   "mimetype": "text/x-python",
   "name": "python",
   "nbconvert_exporter": "python",
   "pygments_lexer": "ipython3",
   "version": "3.11.5"
  }
 },
 "nbformat": 4,
 "nbformat_minor": 5
}
